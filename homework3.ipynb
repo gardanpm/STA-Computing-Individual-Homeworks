{
 "cells": [
  {
   "cell_type": "markdown",
   "metadata": {},
   "source": [
    "# Homework03:  Topic Modeling with Latent Semantic Analysis"
   ]
  },
  {
   "cell_type": "code",
   "execution_count": 1,
   "metadata": {},
   "outputs": [],
   "source": [
    "from collections import Counter\n",
    "import pandas as pd\n",
    "import numpy as np\n",
    "import math\n",
    "import scipy.stats as stats"
   ]
  },
  {
   "cell_type": "markdown",
   "metadata": {},
   "source": [
    "Latent Semantic Analysis (LSA) is a method for finding latent similarities between documents treated as a bag of words by using a low rank approximation. It is used for document classification, clustering and retrieval. For example, LSA can be used to search for prior art given a new patent application. In this homework, we will implement a small library for simple latent semantic analysis as a practical example of the application of SVD. The ideas are very similar to PCA. SVD is also used in recommender systems in an similar fashion (for an SVD-based recommender system library, see [Surpise](http://surpriselib.com). \n",
    "\n",
    "We will implement a toy example of LSA to get familiar with the ideas. If you want to use LSA or similar methods for statistical language analysis, the most efficient Python libraries are probably [gensim](https://radimrehurek.com/gensim/) and [spaCy](https://spacy.io) - these also provide an online algorithm - i.e. the training information can be continuously updated. Other useful functions for processing natural language can be found in the [Natural Language Toolkit](http://www.nltk.org/)."
   ]
  },
  {
   "cell_type": "markdown",
   "metadata": {},
   "source": [
    "**Note**: The SVD from scipy.linalg performs a full decomposition, which is inefficient since we only need to decompose until we get the first k singluar values. If the SVD from `scipy.linalg` is too slow, please use the `sparsesvd` function from the [sparsesvd](https://pypi.python.org/pypi/sparsesvd/) package to perform SVD instead.  You can install in the usual way with \n",
    "```\n",
    "!pip install sparsesvd\n",
    "```\n",
    "\n",
    "Then import the following\n",
    "```python\n",
    "from sparsesvd import sparsesvd \n",
    "from scipy.sparse import csc_matrix \n",
    "```\n",
    "\n",
    "and use as follows\n",
    "```python\n",
    "sparsesvd(csc_matrix(M), k=10)\n",
    "```"
   ]
  },
  {
   "cell_type": "markdown",
   "metadata": {},
   "source": [
    "**Exercise 1 (20 points)**.  Calculating pairwise distance matrices.\n",
    "\n",
    "Suppose we want to construct a distance matrix between the rows of a matrix. For example, given the matrix \n",
    "\n",
    "```python\n",
    "M = np.array([[1,2,3],[4,5,6]])\n",
    "```\n",
    "\n",
    "the distance matrix using Euclidean distance as the measure would be\n",
    "```python\n",
    "[[ 0.000  1.414  2.828]\n",
    " [ 1.414  0.000  1.414]\n",
    " [ 2.828  1.414  0.000]] \n",
    "```\n",
    "if $M$ was a collection of column vectors.\n",
    "\n",
    "Write a function to calculate the pairwise-distance matrix given the matrix $M$ and some arbitrary distance function. Your functions should have the following signature:\n",
    "```\n",
    "def func_name(M, distance_func):\n",
    "    pass\n",
    "```\n",
    "\n",
    "0. Write a distance function for the Euclidean, squared Euclidean and cosine measures.\n",
    "1. Write the function using looping for M as a collection of row vectors.\n",
    "2. Write the function using looping for M as a collection of column vectors.\n",
    "3. Wrtie the function using broadcasting for M as a collection of row vectors.\n",
    "4. Write the function using broadcasting for M as a collection of column vectors. \n",
    "\n",
    "For 3 and 4, try to avoid using transposition (but if you get stuck, there will be no penalty for using transposition). Check that all four functions give the same result when applied to the given matrix $M$."
   ]
  },
  {
   "cell_type": "code",
   "execution_count": 2,
   "metadata": {},
   "outputs": [],
   "source": [
    "###### 0\n",
    "def euclidean_func(X, Y, axis=None):\n",
    "    return(np.linalg.norm(X-Y, axis = axis))"
   ]
  },
  {
   "cell_type": "code",
   "execution_count": 3,
   "metadata": {},
   "outputs": [],
   "source": [
    "def sq_euclidean_func(X, Y, axis=None):\n",
    "    return(np.linalg.norm(X-Y, axis = axis)**2)"
   ]
  },
  {
   "cell_type": "code",
   "execution_count": 4,
   "metadata": {},
   "outputs": [],
   "source": [
    "def cosine_func(X, Y, axis=None):\n",
    "    dotted = X.dot(Y)\n",
    "    X_norms = np.linalg.norm(X, axis=axis)\n",
    "    Y_norm = np.linalg.norm(Y)\n",
    "    return(np.divide(dotted, np.multiply(X_norms, Y_norm)))"
   ]
  },
  {
   "cell_type": "code",
   "execution_count": 5,
   "metadata": {},
   "outputs": [],
   "source": [
    "#######1\n",
    "M = np.array([[1,2,3],[4,5,6]])\n",
    "\n",
    "def row_vec_dist(X, dist_func):\n",
    "    dist= np.zeros((len(X),len(X)))\n",
    "    if dist_func == cosine_func:\n",
    "        np.fill_diagonal(dist, 1)    \n",
    "    for i in range(len(X)-1):\n",
    "        for j in range(i+1,len(X)):\n",
    "               dist[j][i] = dist_func(X[i], X[j]) \n",
    "    dist = np.maximum(dist, dist.T)\n",
    "    return(dist)"
   ]
  },
  {
   "cell_type": "code",
   "execution_count": 6,
   "metadata": {},
   "outputs": [],
   "source": [
    "#######2\n",
    "def col_vec_dist(X, dist_func):\n",
    "    dist= np.zeros((len(X.T),len(X.T)))\n",
    "    if dist_func == cosine_func:\n",
    "        np.fill_diagonal(dist, 1)\n",
    "    for i in range(len(X.T)-1):\n",
    "        for j in range(i+1,len(X.T)):\n",
    "               dist[j][i] = dist_func(X.T[i], X.T[j]) \n",
    "    dist = np.maximum(dist, dist.T)\n",
    "    return(dist)"
   ]
  },
  {
   "cell_type": "code",
   "execution_count": 7,
   "metadata": {},
   "outputs": [],
   "source": [
    "#######3\n",
    "def row_vec_broad(X, dist_func):\n",
    "    if dist_func == cosine_func:\n",
    "        dist= np.zeros((len(X), len(X)))\n",
    "        for i in range(len(X)):\n",
    "            dist[i] = dist_func(X, X[i], axis=-1)\n",
    "    else:\n",
    "        dist = dist_func(X, X[:,None], axis=-1)\n",
    "    return(dist) "
   ]
  },
  {
   "cell_type": "code",
   "execution_count": 8,
   "metadata": {},
   "outputs": [],
   "source": [
    "#######4\n",
    "def col_vec_broad(X, dist_func):\n",
    "    if dist_func == cosine_func:\n",
    "        dist= np.zeros((len(X.T), len(X.T)))\n",
    "        for i in range(len(X.T)):\n",
    "            dist[i] = dist_func(X.T, X.T[i], axis=-1)\n",
    "    else:\n",
    "        dist = dist_func(X.T, X[:,None].T, axis=-1)\n",
    "    return(dist) "
   ]
  },
  {
   "cell_type": "code",
   "execution_count": 9,
   "metadata": {},
   "outputs": [
    {
     "name": "stdout",
     "output_type": "stream",
     "text": [
      "Broadcasting and Looping give the same results for row vectors as checked with the if/else statement.\n"
     ]
    }
   ],
   "source": [
    "# Checking for rowise \n",
    "# Cosine and euclidean\n",
    "if row_vec_dist(M, cosine_func).all()==row_vec_broad(M, cosine_func).all() and row_vec_dist(M, euclidean_func).all()==row_vec_broad(M, euclidean_func).all():\n",
    "    print(\"Broadcasting and Looping give the same results for row vectors as checked with the if/else statement.\")\n",
    "else: print(\"Broadcasting and Looping DO NOT give the same results for row vectors s checked with the if/else statement.\")"
   ]
  },
  {
   "cell_type": "code",
   "execution_count": 10,
   "metadata": {},
   "outputs": [
    {
     "name": "stdout",
     "output_type": "stream",
     "text": [
      "COSINE FOR ROW VECTORS\n",
      " [[1.         0.97463185]\n",
      " [0.97463185 1.        ]]\n",
      "EUCLIDEAN FOR ROW VECTORS\n",
      " [[0.         5.19615242]\n",
      " [5.19615242 0.        ]]\n",
      "SQUARED EUCLIDEAN FOR ROW VECTORS\n",
      " [[ 0. 27.]\n",
      " [27.  0.]]\n"
     ]
    }
   ],
   "source": [
    "print(\"COSINE FOR ROW VECTORS\\n\", row_vec_dist(M, cosine_func))\n",
    "print(\"EUCLIDEAN FOR ROW VECTORS\\n\", row_vec_dist(M, euclidean_func))\n",
    "print(\"SQUARED EUCLIDEAN FOR ROW VECTORS\\n\", row_vec_dist(M, sq_euclidean_func))"
   ]
  },
  {
   "cell_type": "code",
   "execution_count": 11,
   "metadata": {},
   "outputs": [
    {
     "name": "stdout",
     "output_type": "stream",
     "text": [
      "Broadcasting and Looping give the same results for column vectors as checked with the if/else statement.\n"
     ]
    }
   ],
   "source": [
    "# Checking for columnise \n",
    "# Cosine and euclidean\n",
    "if col_vec_dist(M, cosine_func).all()==col_vec_broad(M, cosine_func).all() and col_vec_dist(M, euclidean_func).all()==col_vec_broad(M, euclidean_func).all():\n",
    "    print(\"Broadcasting and Looping give the same results for column vectors as checked with the if/else statement.\")\n",
    "else: print(\"Broadcasting and Looping DO NOT give the same results for column vectors s checked with the if/else statement.\")"
   ]
  },
  {
   "cell_type": "code",
   "execution_count": 12,
   "metadata": {},
   "outputs": [
    {
     "name": "stdout",
     "output_type": "stream",
     "text": [
      "COSINE FOR COLUMN VECTORS\n",
      " [[1.         0.99083017 0.97618706]\n",
      " [0.99083017 1.         0.99654576]\n",
      " [0.97618706 0.99654576 1.        ]]\n",
      "EUCLIDEAN FOR COLUMN VECTORS\n",
      " [[0.         1.41421356 2.82842712]\n",
      " [1.41421356 0.         1.41421356]\n",
      " [2.82842712 1.41421356 0.        ]]\n",
      "SQUARED EUCLIDEAN FOR COLUMN VECTORS\n",
      " [[0. 2. 8.]\n",
      " [2. 0. 2.]\n",
      " [8. 2. 0.]]\n"
     ]
    }
   ],
   "source": [
    "print(\"COSINE FOR COLUMN VECTORS\\n\", col_vec_dist(M, cosine_func))\n",
    "print(\"EUCLIDEAN FOR COLUMN VECTORS\\n\", col_vec_dist(M, euclidean_func))\n",
    "print(\"SQUARED EUCLIDEAN FOR COLUMN VECTORS\\n\", col_vec_dist(M, sq_euclidean_func))"
   ]
  },
  {
   "cell_type": "markdown",
   "metadata": {},
   "source": [
    "**Exercise 2 (20 points)**. "
   ]
  },
  {
   "cell_type": "markdown",
   "metadata": {},
   "source": [
    "**Exercise 2 (20 points)**. Write 3 functions to calculate the term frequency (tf), the inverse document frequency (idf) and the product (tf-idf). Each function should take a single argument `docs`, which is a dictionary of (key=identifier, value=document text) pairs, and return an appropriately sized array. Convert '-' to ' ' (space), remove punctuation, convert text to lowercase and split on whitespace to generate a collection of terms from the document text.\n",
    "\n",
    "- tf = the number of occurrences of term $i$ in document $j$\n",
    "- idf = $\\log \\frac{n}{1 + \\text{df}_i}$ where $n$ is the total number of documents and $\\text{df}_i$ is the number of documents in which term $i$ occurs.\n",
    "\n",
    "Print the table of tf-idf values for the following document collection\n",
    "\n",
    "```\n",
    "s1 = \"The quick brown fox\"\n",
    "s2 = \"Brown fox jumps over the jumps jumps jumps\"\n",
    "s3 = \"The the the lazy dog elephant.\"\n",
    "s4 = \"The the the the the dog peacock lion tiger elephant\"\n",
    "\n",
    "docs = {'s1': s1, 's2': s2, 's3': s3, 's4': s4}\n",
    "```"
   ]
  },
  {
   "cell_type": "code",
   "execution_count": 13,
   "metadata": {},
   "outputs": [],
   "source": [
    "import string\n",
    "s1 = \"The quick brown fox\"\n",
    "s2 = \"Brown fox jumps over the jumps jumps jumps\"\n",
    "s3 = \"The the the lazy dog elephant.\"\n",
    "s4 = \"The the the the the dog peacock lion tiger elephant\"\n",
    "\n",
    "docs = {'s1': s1, 's2': s2, 's3': s3, 's4': s4}"
   ]
  },
  {
   "cell_type": "code",
   "execution_count": 14,
   "metadata": {
    "scrolled": true
   },
   "outputs": [],
   "source": [
    "def tf(docs):\n",
    "    # Creating a dictionary of all the words\n",
    "    word_dict = {cont: \n",
    "                 docs[cont].replace('-', '').strip().lower().translate(str.maketrans('', '', string.punctuation)).split() for cont in docs}\n",
    "\n",
    "    # Counting the number of time each words appear in each text section\n",
    "    counts = {cont: Counter(word) for cont, word in word_dict.items()} \n",
    "    # Creating an array of these count, in the order the words appeared\n",
    "    array = pd.DataFrame(counts).replace(np.nan,0).to_numpy()\n",
    "    return(array)"
   ]
  },
  {
   "cell_type": "code",
   "execution_count": 15,
   "metadata": {},
   "outputs": [],
   "source": [
    "def idf(docs):\n",
    "    n=len(docs)\n",
    "    \n",
    "    word_dict = {cont: \n",
    "                 docs[cont].replace('-', '').strip().lower().translate(str.maketrans('', '', string.punctuation)).split() for cont in docs}\n",
    "    # extracting only unique words \n",
    "    words = []\n",
    "    for i in word_dict.keys():\n",
    "        words += list(dict.fromkeys(word_dict[i]))\n",
    "    # Counting the number of time each words appear in each text section\n",
    "    counts = {'count' : Counter(words)}\n",
    "    # Creating an array of nb of doc word occurs, in the order the words appeared\n",
    "    order = list(Counter(words).keys())\n",
    "    df = pd.DataFrame(counts).T[order].T\n",
    "    array= np.log(n/(1+df.to_numpy()))\n",
    "    return(array)"
   ]
  },
  {
   "cell_type": "code",
   "execution_count": 16,
   "metadata": {},
   "outputs": [],
   "source": [
    "def product(docs):\n",
    "    return(tf(docs)*idf(docs))"
   ]
  },
  {
   "cell_type": "code",
   "execution_count": 17,
   "metadata": {},
   "outputs": [
    {
     "name": "stdout",
     "output_type": "stream",
     "text": [
      "[[-0.22314355 -0.22314355 -0.66943065 -1.11571776]\n",
      " [ 0.69314718  0.          0.          0.        ]\n",
      " [ 0.28768207  0.28768207  0.          0.        ]\n",
      " [ 0.28768207  0.28768207  0.          0.        ]\n",
      " [ 0.          2.77258872  0.          0.        ]\n",
      " [ 0.          0.69314718  0.          0.        ]\n",
      " [ 0.          0.          0.69314718  0.        ]\n",
      " [ 0.          0.          0.28768207  0.28768207]\n",
      " [ 0.          0.          0.28768207  0.28768207]\n",
      " [ 0.          0.          0.          0.69314718]\n",
      " [ 0.          0.          0.          0.69314718]\n",
      " [ 0.          0.          0.          0.69314718]]\n"
     ]
    }
   ],
   "source": [
    "print(product(docs))"
   ]
  },
  {
   "cell_type": "markdown",
   "metadata": {},
   "source": [
    "**Exercise 3 (20 points)**. \n",
    "\n",
    "1. Write a function that takes a matrix $M$ and an integer $k$ as arguments, and reconstructs a reduced matrix using only the $k$ largest singular values. Use the `scipy.linagl.svd` function to perform the decomposition. This is the least squares approximation to the matrix $M$ in $k$ dimensions.\n",
    "\n",
    "2. Apply the function you just wrote to the following term-frequency matrix for a set of $9$ documents using $k=2$ and print the reconstructed matrix $M'$.\n",
    "```\n",
    "M = np.array([[1, 0, 0, 1, 0, 0, 0, 0, 0],\n",
    "       [1, 0, 1, 0, 0, 0, 0, 0, 0],\n",
    "       [1, 1, 0, 0, 0, 0, 0, 0, 0],\n",
    "       [0, 1, 1, 0, 1, 0, 0, 0, 0],\n",
    "       [0, 1, 1, 2, 0, 0, 0, 0, 0],\n",
    "       [0, 1, 0, 0, 1, 0, 0, 0, 0],\n",
    "       [0, 1, 0, 0, 1, 0, 0, 0, 0],\n",
    "       [0, 0, 1, 1, 0, 0, 0, 0, 0],\n",
    "       [0, 1, 0, 0, 0, 0, 0, 0, 1],\n",
    "       [0, 0, 0, 0, 0, 1, 1, 1, 0],\n",
    "       [0, 0, 0, 0, 0, 0, 1, 1, 1],\n",
    "       [0, 0, 0, 0, 0, 0, 0, 1, 1]])\n",
    "```\n",
    "\n",
    "3. Calculate the pairwise correlation matrix for the original matrix M and the reconstructed matrix using $k=2$ singular values (you may use [scipy.stats.spearmanr](http://docs.scipy.org/doc/scipy/reference/generated/scipy.stats.spearmanr.html) to do the calculations). Consider the fist 5 sets of documents as one group $G1$ and the last 4 as another group $G2$ (i.e. first 5 and last 4 columns). What is the average within group correlation for $G1$, $G2$ and the average cross-group correlation for G1-G2 using either $M$ or $M'$. (Do not include self-correlation in the within-group calculations.)."
   ]
  },
  {
   "cell_type": "code",
   "execution_count": 18,
   "metadata": {},
   "outputs": [],
   "source": [
    "M = np.array([[1, 0, 0, 1, 0, 0, 0, 0, 0],\n",
    "    [1, 0, 1, 0, 0, 0, 0, 0, 0],\n",
    "    [1, 1, 0, 0, 0, 0, 0, 0, 0],\n",
    "    [0, 1, 1, 0, 1, 0, 0, 0, 0],\n",
    "    [0, 1, 1, 2, 0, 0, 0, 0, 0],\n",
    "    [0, 1, 0, 0, 1, 0, 0, 0, 0],\n",
    "    [0, 1, 0, 0, 1, 0, 0, 0, 0],\n",
    "    [0, 0, 1, 1, 0, 0, 0, 0, 0],\n",
    "    [0, 1, 0, 0, 0, 0, 0, 0, 1],\n",
    "    [0, 0, 0, 0, 0, 1, 1, 1, 0],\n",
    "    [0, 0, 0, 0, 0, 0, 1, 1, 1],\n",
    "    [0, 0, 0, 0, 0, 0, 0, 1, 1]])\n"
   ]
  },
  {
   "cell_type": "code",
   "execution_count": 19,
   "metadata": {},
   "outputs": [],
   "source": [
    "#######1\n",
    "def annoying_func(M, k):\n",
    "    u, s, v = np.linalg.svd(M)\n",
    "    s= np.diag(s)\n",
    "    u_k = u[:, 0:k]\n",
    "    v_k = v[0:k,:]\n",
    "    s_k = s[0:k, 0:k]\n",
    "    M_k = u_k @ s_k @ v_k\n",
    "    return(M_k)"
   ]
  },
  {
   "cell_type": "code",
   "execution_count": 20,
   "metadata": {},
   "outputs": [
    {
     "name": "stdout",
     "output_type": "stream",
     "text": [
      "[[ 0.16205797  0.40049828  0.37895454  0.46756626  0.17595367 -0.05265495\n",
      "  -0.11514284 -0.15910198 -0.09183827]\n",
      " [ 0.14058529  0.36980077  0.32899603  0.40042722  0.16497247 -0.03281545\n",
      "  -0.07056857 -0.09676827 -0.04298073]\n",
      " [ 0.15244948  0.50500444  0.35793658  0.41010678  0.23623173  0.02421652\n",
      "   0.05978051  0.0868573   0.12396632]\n",
      " [ 0.25804933  0.84112343  0.60571995  0.69735717  0.39231795  0.03311801\n",
      "   0.08324491  0.12177239  0.18737973]\n",
      " [ 0.44878975  1.23436483  1.0508615   1.26579559  0.55633139 -0.07378998\n",
      "  -0.15469383 -0.20959816 -0.04887954]\n",
      " [ 0.15955428  0.5816819   0.37521897  0.41689768  0.27654052  0.05590374\n",
      "   0.1322185   0.18891146  0.21690761]\n",
      " [ 0.15955428  0.5816819   0.37521897  0.41689768  0.27654052  0.05590374\n",
      "   0.1322185   0.18891146  0.21690761]\n",
      " [ 0.21846278  0.54958058  0.51096047  0.62805802  0.24253607 -0.06541098\n",
      "  -0.14252146 -0.19661186 -0.1079133 ]\n",
      " [ 0.09690639  0.53206438  0.22991365  0.21175363  0.26652513  0.13675618\n",
      "   0.31462078  0.44444058  0.42496948]\n",
      " [-0.06125388  0.23210821 -0.1388984  -0.26564589  0.14492549  0.24042105\n",
      "   0.54614717  0.7673742   0.66370933]\n",
      " [-0.06467702  0.33528115 -0.14564055 -0.30140607  0.20275641  0.30572612\n",
      "   0.69489337  0.97661121  0.84874969]\n",
      " [-0.04308204  0.25390566 -0.09666695 -0.20785821  0.1519134   0.22122703\n",
      "   0.50294488  0.70691163  0.6155044 ]]\n"
     ]
    }
   ],
   "source": [
    "#######2\n",
    "M_red = annoying_func(M, 2)\n",
    "print(M_red)"
   ]
  },
  {
   "cell_type": "code",
   "execution_count": 21,
   "metadata": {},
   "outputs": [
    {
     "data": {
      "text/plain": [
       "array([[ 1.        , -0.19245009,  0.        ,  0.07339758, -0.33333333,\n",
       "        -0.17407766, -0.25819889, -0.33333333, -0.33333333,  0.02792359,\n",
       "        -0.25131234,  0.02792359,  0.02792359, -0.36300672, -0.41885391,\n",
       "        -0.41885391, -0.41885391, -0.4747011 ],\n",
       "       [-0.19245009,  1.        ,  0.        , -0.12712835,  0.57735027,\n",
       "        -0.30151134, -0.4472136 , -0.57735027, -0.19245009,  0.43528575,\n",
       "         0.77384133,  0.43528575,  0.43528575,  0.82220642, -0.14509525,\n",
       "        -0.14509525, -0.14509525, -0.04836508],\n",
       "       [ 0.        ,  0.        ,  1.        ,  0.43822991,  0.        ,\n",
       "        -0.21320072, -0.31622777, -0.40824829, -0.40824829,  0.61558701,\n",
       "         0.46169026,  0.61558701,  0.61558701,  0.35909242, -0.66688593,\n",
       "        -0.66688593, -0.66688593, -0.61558701],\n",
       "       [ 0.07339758, -0.12712835,  0.43822991,  1.        , -0.33028913,\n",
       "        -0.17248787, -0.25584086, -0.33028913, -0.33028913,  0.65943446,\n",
       "         0.35508009,  0.65943446,  0.65943446,  0.25362864, -0.76088591,\n",
       "        -0.76088591, -0.76088591, -0.73321733],\n",
       "       [-0.33333333,  0.57735027,  0.        , -0.33028913,  1.        ,\n",
       "        -0.17407766, -0.25819889, -0.33333333, -0.33333333,  0.36300672,\n",
       "         0.58639547,  0.36300672,  0.36300672,  0.58639547,  0.08377078,\n",
       "         0.08377078,  0.08377078,  0.08377078],\n",
       "       [-0.17407766, -0.30151134, -0.21320072, -0.17248787, -0.17407766,\n",
       "         1.        ,  0.67419986,  0.52223297, -0.17407766, -0.39373078,\n",
       "        -0.4812265 , -0.39373078, -0.39373078, -0.4812265 ,  0.39373078,\n",
       "         0.39373078,  0.39373078,  0.39373078],\n",
       "       [-0.25819889, -0.4472136 , -0.31622777, -0.25584086, -0.25819889,\n",
       "         0.67419986,  1.        ,  0.77459667,  0.25819889, -0.64888568,\n",
       "        -0.58399712, -0.64888568, -0.64888568, -0.45421998,  0.64888568,\n",
       "         0.64888568,  0.64888568,  0.64888568],\n",
       "       [-0.33333333, -0.57735027, -0.40824829, -0.33028913, -0.33333333,\n",
       "         0.52223297,  0.77459667,  1.        ,  0.55555556, -0.75393703,\n",
       "        -0.75393703, -0.75393703, -0.75393703, -0.64224266,  0.75393703,\n",
       "         0.75393703,  0.75393703,  0.75393703],\n",
       "       [-0.33333333, -0.19245009, -0.40824829, -0.33028913, -0.33333333,\n",
       "        -0.17407766,  0.25819889,  0.55555556,  1.        , -0.64224266,\n",
       "        -0.41885391, -0.64224266, -0.64224266, -0.25131234,  0.64224266,\n",
       "         0.64224266,  0.64224266,  0.64224266],\n",
       "       [ 0.02792359,  0.43528575,  0.61558701,  0.65943446,  0.36300672,\n",
       "        -0.39373078, -0.64888568, -0.75393703, -0.64224266,  1.        ,\n",
       "         0.84561404,  1.        ,  1.        ,  0.71929825, -0.83859649,\n",
       "        -0.83859649, -0.83859649, -0.80350877],\n",
       "       [-0.25131234,  0.77384133,  0.46169026,  0.35508009,  0.58639547,\n",
       "        -0.4812265 , -0.58399712, -0.75393703, -0.41885391,  0.84561404,\n",
       "         1.        ,  0.84561404,  0.84561404,  0.97192982, -0.55789474,\n",
       "        -0.55789474, -0.55789474, -0.48070175],\n",
       "       [ 0.02792359,  0.43528575,  0.61558701,  0.65943446,  0.36300672,\n",
       "        -0.39373078, -0.64888568, -0.75393703, -0.64224266,  1.        ,\n",
       "         0.84561404,  1.        ,  1.        ,  0.71929825, -0.83859649,\n",
       "        -0.83859649, -0.83859649, -0.80350877],\n",
       "       [ 0.02792359,  0.43528575,  0.61558701,  0.65943446,  0.36300672,\n",
       "        -0.39373078, -0.64888568, -0.75393703, -0.64224266,  1.        ,\n",
       "         0.84561404,  1.        ,  1.        ,  0.71929825, -0.83859649,\n",
       "        -0.83859649, -0.83859649, -0.80350877],\n",
       "       [-0.36300672,  0.82220642,  0.35909242,  0.25362864,  0.58639547,\n",
       "        -0.4812265 , -0.45421998, -0.64224266, -0.25131234,  0.71929825,\n",
       "         0.97192982,  0.71929825,  0.71929825,  1.        , -0.38947368,\n",
       "        -0.38947368, -0.38947368, -0.29824561],\n",
       "       [-0.41885391, -0.14509525, -0.66688593, -0.76088591,  0.08377078,\n",
       "         0.39373078,  0.64888568,  0.75393703,  0.64224266, -0.83859649,\n",
       "        -0.55789474, -0.83859649, -0.83859649, -0.38947368,  1.        ,\n",
       "         1.        ,  1.        ,  0.97894737],\n",
       "       [-0.41885391, -0.14509525, -0.66688593, -0.76088591,  0.08377078,\n",
       "         0.39373078,  0.64888568,  0.75393703,  0.64224266, -0.83859649,\n",
       "        -0.55789474, -0.83859649, -0.83859649, -0.38947368,  1.        ,\n",
       "         1.        ,  1.        ,  0.97894737],\n",
       "       [-0.41885391, -0.14509525, -0.66688593, -0.76088591,  0.08377078,\n",
       "         0.39373078,  0.64888568,  0.75393703,  0.64224266, -0.83859649,\n",
       "        -0.55789474, -0.83859649, -0.83859649, -0.38947368,  1.        ,\n",
       "         1.        ,  1.        ,  0.97894737],\n",
       "       [-0.4747011 , -0.04836508, -0.61558701, -0.73321733,  0.08377078,\n",
       "         0.39373078,  0.64888568,  0.75393703,  0.64224266, -0.80350877,\n",
       "        -0.48070175, -0.80350877, -0.80350877, -0.29824561,  0.97894737,\n",
       "         0.97894737,  0.97894737,  1.        ]])"
      ]
     },
     "execution_count": 21,
     "metadata": {},
     "output_type": "execute_result"
    }
   ],
   "source": [
    "#######3\n",
    "stats.spearmanr(M,M_red)[0]"
   ]
  },
  {
   "cell_type": "code",
   "execution_count": 22,
   "metadata": {},
   "outputs": [
    {
     "name": "stdout",
     "output_type": "stream",
     "text": [
      "Average within group correlation for G1 is 0.010577686629862809\n",
      "Average within group correlation for G2 is 0.43511771481980627\n",
      "Average cross-group correlation  is -0.3075621889055909\n"
     ]
    }
   ],
   "source": [
    "Grp_cor_M = stats.spearmanr(M)[0]\n",
    "\n",
    "# Within group cor\n",
    "\n",
    "# GRP 1\n",
    "Grp1_M = Grp_cor_M[0:5,0:5].flatten()\n",
    "Grp1_M = np.delete(Grp1_M, [0,6,12,18,24], None)\n",
    "Grp1_M_cor = np.sum(Grp1_M)/len(Grp1_M)\n",
    "# GRP 2\n",
    "Grp2_M = Grp_cor_M[5:10,5:10].flatten()\n",
    "Grp2_M = np.delete(Grp2_M, [0,5,10,15], None)\n",
    "Grp2_M_cor = np.sum(Grp2_M)/len(Grp2_M)\n",
    "\n",
    "#Accross group cor\n",
    "\n",
    "accross_M = Grp_cor_M[0:5,5:10].flatten()\n",
    "accross_M_cor =np.sum(accross_M)/len(accross_M)\n",
    "\n",
    "print(\"Average within group correlation for G1 is\", Grp1_M_cor)\n",
    "print(\"Average within group correlation for G2 is\", Grp2_M_cor)\n",
    "print(\"Average cross-group correlation  is\", accross_M_cor)"
   ]
  },
  {
   "cell_type": "code",
   "execution_count": 23,
   "metadata": {},
   "outputs": [
    {
     "name": "stdout",
     "output_type": "stream",
     "text": [
      "Average within group correlation for G1 is 0.8666666666666668\n",
      "Average within group correlation for G2 is 0.9894736842105266\n",
      "Average cross-group correlation  is -0.6789473684210529\n"
     ]
    }
   ],
   "source": [
    "Grp_cor_Mred = stats.spearmanr(M_red)[0]\n",
    "# Within group cor\n",
    "\n",
    "# GRP 1\n",
    "Grp1_Mred = Grp_cor_Mred[0:5,0:5].flatten()\n",
    "Grp1_Mred = np.delete(Grp1_Mred, [0,6,12,18,24], None)\n",
    "Grp1_Mred_cor = np.sum(Grp1_Mred)/len(Grp1_Mred)\n",
    "\n",
    "# GRP 2\n",
    "Grp2_Mred = Grp_cor_Mred[5:10,5:10].flatten()\n",
    "Grp2_Mred = np.delete(Grp2_Mred, [0,5,10,15], None)\n",
    "Grp2_Mred_cor = np.sum(Grp2_Mred)/len(Grp2_Mred)\n",
    "\n",
    "#Accross group cor\n",
    "\n",
    "accross_Mred = Grp_cor_Mred[0:5,5:10].flatten()\n",
    "accross_Mred_cor =np.sum(accross_Mred)/len(accross_Mred)\n",
    "\n",
    "print(\"Average within group correlation for G1 is\", Grp1_Mred_cor)\n",
    "print(\"Average within group correlation for G2 is\", Grp2_Mred_cor)\n",
    "print(\"Average cross-group correlation  is\", accross_Mred_cor)"
   ]
  },
  {
   "cell_type": "markdown",
   "metadata": {},
   "source": [
    "**Exercise 4 (40 points)**. Clustering with LSA\n",
    "\n",
    "1. Begin by loading a PubMed database of selected article titles using 'pickle'. With the following:\n",
    "```import pickle\n",
    "docs = pickle.load(open('data/pubmed.pic', 'rb'))```\n",
    "\n",
    "    Create a tf-idf matrix for every term that appears at least once in any of the documents. What is the shape of the tf-idf matrix? \n",
    "\n",
    "2. Perform SVD on the tf-idf matrix to obtain $U \\Sigma V^T$ (often written as $T \\Sigma D^T$ in this context with $T$ representing the terms and $D$ representing the documents). If we set all but the top $k$ singular values to 0, the reconstructed matrix is essentially $U_k \\Sigma_k V_k^T$, where $U_k$ is $m \\times k$, $\\Sigma_k$ is $k \\times k$ and $V_k^T$ is $k \\times n$. Terms in this reduced space are represented by $U_k \\Sigma_k$ and documents by $\\Sigma_k V^T_k$. Reconstruct the matrix using the first $k=10$ singular values.\n",
    "\n",
    "3. Use agglomerative hierarchical clustering with complete linkage to plot a dendrogram and comment on the likely number of  document clusters with $k = 100$. Use the dendrogram function from [SciPy ](https://docs.scipy.org/doc/scipy-0.15.1/reference/generated/scipy.cluster.hierarchy.dendrogram.html).\n",
    "\n",
    "4. Determine how similar each of the original documents is to the new document `data/mystery.txt`. Since $A = U \\Sigma V^T$, we also have $V = A^T U S^{-1}$ using orthogonality and the rule for transposing matrix products. This suggests that in order to map the new document to the same concept space, first find the tf-idf vector $v$ for the new document - this must contain all (and only) the terms present in the existing tf-idx matrix. Then the query vector $q$ is given by $v^T U_k \\Sigma_k^{-1}$. Find the 10 documents most similar to the new document and the 10 most dissimilar. "
   ]
  },
  {
   "cell_type": "code",
   "execution_count": 24,
   "metadata": {},
   "outputs": [],
   "source": [
    "#pip install biopython"
   ]
  },
  {
   "cell_type": "code",
   "execution_count": 25,
   "metadata": {},
   "outputs": [],
   "source": [
    "#######1\n",
    "from Bio import Entrez, Medline\n",
    "Entrez.email = \"pierre.gardan@duke.edu\"\n",
    "output_file = \"my_pubmed.pic\"\n",
    "import pickle\n",
    "\n",
    "try:\n",
    "    docs = pickle.load(open(output_file))\n",
    "except:\n",
    "    docs = {}\n",
    "    for term in ['plasmodium', 'diabetes', 'asthma', 'cytometry']:\n",
    "        handle = Entrez.esearch(db=\"pubmed\", term=term, retmax=50)\n",
    "        result = Entrez.read(handle)\n",
    "        handle.close()\n",
    "        idlist = result[\"IdList\"]\n",
    "        handle2 = Entrez.efetch(db=\"pubmed\", id=idlist, rettype=\"medline\", retmode=\"text\")\n",
    "        result2 = Medline.parse(handle2)\n",
    "        for record in result2:\n",
    "            title = record.get(\"TI\", None)\n",
    "            abstract = record.get(\"AB\", None)\n",
    "            if title is None or abstract is None:\n",
    "                continue\n",
    "            docs[title] = '\\n'.join([title, abstract])\n",
    "        handle2.close()\n",
    "    pickle.dump(docs, open(output_file, 'wb'))"
   ]
  },
  {
   "cell_type": "code",
   "execution_count": 26,
   "metadata": {},
   "outputs": [
    {
     "data": {
      "text/plain": [
       "(7757, 192)"
      ]
     },
     "execution_count": 26,
     "metadata": {},
     "output_type": "execute_result"
    }
   ],
   "source": [
    "# Please note that I could not load the 'pubmed.pic' doc because of upcode errors. \n",
    "# I scraped new data instead which is why the shape are not the same as the original file.\n",
    "tf_idf=product(docs)\n",
    "np.shape(tf_idf)"
   ]
  },
  {
   "cell_type": "code",
   "execution_count": 27,
   "metadata": {},
   "outputs": [
    {
     "data": {
      "text/plain": [
       "array([[ 2.61230603e+00,  4.03991890e-02,  3.48713952e-02, ...,\n",
       "        -3.73689959e-03, -1.80941859e-02,  4.49412129e-03],\n",
       "       [ 5.89814276e+00,  1.37773835e-01,  1.22103862e-01, ...,\n",
       "         2.89622676e-02, -3.25813881e-03,  4.41732926e-02],\n",
       "       [ 1.76296103e+00,  2.07758283e-01,  2.41605656e-01, ...,\n",
       "        -1.27703062e-01,  3.72384987e-01,  1.62778876e-01],\n",
       "       ...,\n",
       "       [ 1.05688210e-03,  5.99149961e-03,  1.23035094e-02, ...,\n",
       "         2.84715844e-02,  2.05063868e-02,  3.80837674e-02],\n",
       "       [ 1.05688210e-03,  5.99149961e-03,  1.23035094e-02, ...,\n",
       "         2.84715844e-02,  2.05063868e-02,  3.80837674e-02],\n",
       "       [ 1.05688210e-03,  5.99149961e-03,  1.23035094e-02, ...,\n",
       "         2.84715844e-02,  2.05063868e-02,  3.80837674e-02]])"
      ]
     },
     "execution_count": 27,
     "metadata": {},
     "output_type": "execute_result"
    }
   ],
   "source": [
    "#######2\n",
    "tf_idf_red = annoying_func(tf_idf, 10)\n",
    "tf_idf_red"
   ]
  },
  {
   "cell_type": "code",
   "execution_count": 28,
   "metadata": {},
   "outputs": [],
   "source": [
    "#######3\n",
    "import scipy.cluster.hierarchy as sc_hierarchy\n",
    "import matplotlib.pyplot as plt\n",
    "link = sc_hierarchy.linkage(annoying_func(tf_idf, 100), method='complete')"
   ]
  },
  {
   "cell_type": "code",
   "execution_count": 94,
   "metadata": {},
   "outputs": [
    {
     "data": {
      "image/png": "[encoded data removed]",
      "text/plain": [
       "<Figure size 432x288 with 1 Axes>"
      ]
     },
     "metadata": {
      "needs_background": "light"
     },
     "output_type": "display_data"
    }
   ],
   "source": [
    "dendo = sc_hierarchy.dendrogram(link, p=100, truncate_mode='lastp')\n",
    "plt.show()\n"
   ]
  },
  {
   "cell_type": "code",
   "execution_count": 95,
   "metadata": {},
   "outputs": [
    {
     "name": "stdout",
     "output_type": "stream",
     "text": [
      "After making the plot more readible by removing its right part that was not of interest for this question,It seems like for k = 100, there is only one cluster here\n"
     ]
    }
   ],
   "source": [
    "print(\"After making the plot more readible by removing its right part that was not of interest for this question,It seems like for k = 100, there is only one cluster here\")"
   ]
  },
  {
   "cell_type": "code",
   "execution_count": 73,
   "metadata": {},
   "outputs": [],
   "source": [
    "#######4\n",
    "f= open(\"\\\\Users\\\\pgard\\\\sta-663-2020\\\\data\\\\mystery.txt\",\"r\").read()"
   ]
  },
  {
   "cell_type": "code",
   "execution_count": 74,
   "metadata": {},
   "outputs": [],
   "source": [
    "import string \n",
    "# Creating a dictionary of all the words\n",
    "word_dict = {cont: \n",
    "             docs[cont].strip().lower().translate(str.maketrans('', '', string.punctuation)).split() for cont in docs}\n",
    "\n",
    "# Putting of this words in a combined list\n",
    "sub_words=[]\n",
    "for i in word_dict.keys():\n",
    "    sub_words+=[word_dict[i]]\n",
    "\n",
    "words = []\n",
    "for i in sub_words:\n",
    "    words += i\n",
    "# extracting only unique words    \n",
    "words = list(dict.fromkeys(words))"
   ]
  },
  {
   "cell_type": "code",
   "execution_count": 82,
   "metadata": {},
   "outputs": [],
   "source": [
    "list_f= f.strip().lower().translate(str.maketrans('', '', string.punctuation)).replace('\\n', ' ').replace('¿', ' ').split()\n",
    "new_doc=[]\n",
    "for i in range(len(list_f)):\n",
    "    if not list_f[i] in words:\n",
    "        list_f[i]=None\n",
    "    else:\n",
    "        pass\n",
    "f.close()"
   ]
  },
  {
   "cell_type": "markdown",
   "metadata": {},
   "source": [
    "**Notes on the Pubmed articles**\n",
    "\n",
    "These were downloaded with the following script.\n",
    "\n",
    "```python\n",
    "from Bio import Entrez, Medline\n",
    "Entrez.email = \"YOUR EMAIL HERE\"\n",
    "import cPickle\n",
    "\n",
    "try:\n",
    "    docs = cPickle.load(open('pubmed.pic'))\n",
    "except Exception, e:\n",
    "    print e\n",
    "\n",
    "    docs = {}\n",
    "    for term in ['plasmodium', 'diabetes', 'asthma', 'cytometry']:\n",
    "        handle = Entrez.esearch(db=\"pubmed\", term=term, retmax=50)\n",
    "        result = Entrez.read(handle)\n",
    "        handle.close()\n",
    "        idlist = result[\"IdList\"]\n",
    "        handle2 = Entrez.efetch(db=\"pubmed\", id=idlist, rettype=\"medline\", retmode=\"text\")\n",
    "        result2 = Medline.parse(handle2)\n",
    "        for record in result2:\n",
    "            title = record.get(\"TI\", None)\n",
    "            abstract = record.get(\"AB\", None)\n",
    "            if title is None or abstract is None:\n",
    "                continue\n",
    "            docs[title] = '\\n'.join([title, abstract])\n",
    "            print title\n",
    "        handle2.close()\n",
    "    cPickle.dump(docs, open('pubmed.pic', 'w'))\n",
    "docs.values()\n",
    "```"
   ]
  },
  {
   "cell_type": "code",
   "execution_count": null,
   "metadata": {},
   "outputs": [],
   "source": []
  }
 ],
 "metadata": {
  "kernelspec": {
   "display_name": "Python 3",
   "language": "python",
   "name": "python3"
  },
  "language_info": {
   "codemirror_mode": {
    "name": "ipython",
    "version": 3
   },
   "file_extension": ".py",
   "mimetype": "text/x-python",
   "name": "python",
   "nbconvert_exporter": "python",
   "pygments_lexer": "ipython3",
   "version": "3.7.4"
  }
 },
 "nbformat": 4,
 "nbformat_minor": 1
}
